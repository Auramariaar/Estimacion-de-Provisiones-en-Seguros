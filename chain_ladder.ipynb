{
  "nbformat": 4,
  "nbformat_minor": 0,
  "metadata": {
    "colab": {
      "provenance": [],
      "authorship_tag": "ABX9TyMj8EjoWy3xLOe1b43joQy6",
      "include_colab_link": true
    },
    "kernelspec": {
      "name": "python3",
      "display_name": "Python 3"
    },
    "language_info": {
      "name": "python"
    }
  },
  "cells": [
    {
      "cell_type": "markdown",
      "metadata": {
        "id": "view-in-github",
        "colab_type": "text"
      },
      "source": [
        "<a href=\"https://colab.research.google.com/github/Auramariaar/Estimacion-de-Provisiones-en-Seguros/blob/main/chain_ladder.ipynb\" target=\"_parent\"><img src=\"https://colab.research.google.com/assets/colab-badge.svg\" alt=\"Open In Colab\"/></a>"
      ]
    },
    {
      "cell_type": "code",
      "source": [
        "import numpy as np\n",
        "import pandas as pd\n",
        "import matplotlib.pyplot as plt\n",
        "plt.rcParams.update({'figure.max_open_warning': 0})\n",
        "import seaborn as sns\n",
        "\n",
        "import warnings\n",
        "warnings.filterwarnings(action=\"ignore\", category=DeprecationWarning)\n",
        "warnings.simplefilter(action='ignore', category=FutureWarning)\n",
        "\n",
        "from sklearn.model_selection import train_test_split"
      ],
      "metadata": {
        "id": "JCMYuxbgjMbH"
      },
      "execution_count": 3,
      "outputs": []
    },
    {
      "cell_type": "code",
      "source": [
        "data = pd.read_csv('wkcomp_pos.csv')\n",
        "print('Number of rows and columns:', data.shape)"
      ],
      "metadata": {
        "colab": {
          "base_uri": "https://localhost:8080/"
        },
        "id": "CXZxE-UbjfAo",
        "outputId": "4de37243-385e-4083-b85e-ac318ee9816f"
      },
      "execution_count": 4,
      "outputs": [
        {
          "output_type": "stream",
          "name": "stdout",
          "text": [
            "Number of rows and columns: (13200, 13)\n"
          ]
        }
      ]
    },
    {
      "cell_type": "code",
      "execution_count": 7,
      "metadata": {
        "id": "wxmaintniihf"
      },
      "outputs": [],
      "source": [
        "class ChainLadder:\n",
        "    def init(self, tabla = pd.DataFrame(), origin = \"\", development = \"\", columns = \"\", index = \"\"):\n",
        "\n",
        "        self.tabla = tabla #OK\n",
        "        self.origin = origin #OK\n",
        "        self.development = development #OK\n",
        "        self.index = index #OK\n",
        "        self.columns = columns #OK\n",
        "\n",
        "    def Triangulos(self):\n",
        "\n",
        "        # Renombrar las columnas\n",
        "        datos = self.tabla.rename(columns={self.origin: \"AccidentYear\", self.development: \"DevelopmentLag\", self.columns: \"IncurLoss_C\",\n",
        "                                          self.index: \"GRCODE\"})\n",
        "\n",
        "        diccionario_todos_triangulos = {}\n"
      ]
    },
    {
      "cell_type": "code",
      "source": [
        "import pandas as pd\n",
        "import numpy as np\n",
        "\n",
        "# Cargar tus datos desde un archivo CSV\n",
        "data = pd.read_csv('wkcomp_pos.csv')\n",
        "print('Número de filas y columnas:', data.shape)\n",
        "\n",
        "class ChainLadder:\n",
        "    def __init__(self, tabla=pd.DataFrame(), origin=\"\", development=\"\", columns=\"\", index=\"\"):\n",
        "        self.tabla = tabla\n",
        "        self.origin = origin\n",
        "        self.development = development\n",
        "        self.index = index\n",
        "        self.columns = columns\n",
        "\n",
        "    def Triangulos(self):\n",
        "        # Renombrar las columnas\n",
        "        datos = self.tabla.rename(columns={self.origin: \"AccidentYear\", self.development: \"DevelopmentLag\", self.columns: \"IncurLoss_C\",\n",
        "                                          self.index: \"GRCODE\"})\n",
        "\n",
        "        diccionario_todos_triangulos = {}\n",
        "\n",
        "        for k in datos[\"GRCODE\"].unique():\n",
        "            Filtro_datos = datos[datos[\"GRCODE\"] == k]\n",
        "\n",
        "            Triangulo_full = Filtro_datos.pivot_table(values=\"IncurLoss_C\", index=\"AccidentYear\", columns='DevelopmentLag', aggfunc=\"sum\", margins=False)\n",
        "            Triangulo_full_acumulado = Triangulo_full.cumsum(axis=1)\n",
        "\n",
        "            num_filas, num_columnas = Triangulo_full_acumulado.shape\n",
        "\n",
        "            Triangulo_acumulado_mitad = Triangulo_full_acumulado.copy()\n",
        "            for i in range(num_filas):\n",
        "                for j in range(1, i + 1):\n",
        "                    Triangulo_acumulado_mitad.iat[i, -j] = None  # Puedes establecerlo en None u otro valor si lo prefieres\n",
        "\n",
        "            factores0 = Triangulo_ac\n"
      ],
      "metadata": {
        "colab": {
          "base_uri": "https://localhost:8080/"
        },
        "id": "5-E8lC3xjJQc",
        "outputId": "353019a2-7c7c-452d-9d84-2c27a517d052"
      },
      "execution_count": 11,
      "outputs": [
        {
          "output_type": "stream",
          "name": "stdout",
          "text": [
            "Número de filas y columnas: (13200, 13)\n"
          ]
        }
      ]
    }
  ]
}